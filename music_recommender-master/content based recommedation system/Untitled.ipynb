{
 "cells": [
  {
   "cell_type": "code",
   "execution_count": null,
   "id": "b90ce97e",
   "metadata": {},
   "outputs": [],
   "source": [
    "import pandas as pd\n",
    "from sklearn.metrics import jaccard_score\n",
    "\n",
    "# Load the dataset\n",
    "df = pd.read_csv('songdata.csv')\n",
    "\n",
    "# Compute the Jaccard similarity matrix\n",
    "def jaccard_similarity(song1, song2):\n",
    "    text1 = set(song1.split())\n",
    "    text2 = set(song2.split())\n",
    "    return jaccard_score(text1, text2)\n",
    "\n",
    "n_songs = len(df)\n",
    "similarity_matrix = [[0 for _ in range(n_songs)] for _ in range(n_songs)]\n",
    "\n",
    "for i in range(n_songs):\n",
    "    for j in range(i+1, n_songs):\n",
    "        similarity = jaccard_similarity(df['text'][i], df['text'][j])\n",
    "        similarity_matrix[i][j] = similarity_matrix[j][i] = similarity\n",
    "\n",
    "# Recommend songs\n",
    "def recommend_songs(song_title, n=5):\n",
    "    song_idx = df[df['song'] == song_title].index[0]\n",
    "    similarities = similarity_matrix[song_idx]\n",
    "    similar_songs = list(df.loc[similarities.argsort()[-n-1:-1], 'song'])\n",
    "    return similar_songs\n",
    "\n",
    "# Example usage\n",
    "similar_songs = recommend_songs('Andante, Andante', n=5)\n",
    "print(similar_songs)\n"
   ]
  },
  {
   "cell_type": "code",
   "execution_count": 1,
   "id": "4806f59f",
   "metadata": {},
   "outputs": [],
   "source": [
    "import pandas as pd\n",
    "from sklearn.metrics import jaccard_score"
   ]
  },
  {
   "cell_type": "code",
   "execution_count": 2,
   "id": "fe1d9883",
   "metadata": {},
   "outputs": [],
   "source": [
    "df = pd.read_csv('songdata.csv')"
   ]
  },
  {
   "cell_type": "code",
   "execution_count": 4,
   "id": "dd4b4a17",
   "metadata": {},
   "outputs": [
    {
     "data": {
      "text/html": [
       "<div>\n",
       "<style scoped>\n",
       "    .dataframe tbody tr th:only-of-type {\n",
       "        vertical-align: middle;\n",
       "    }\n",
       "\n",
       "    .dataframe tbody tr th {\n",
       "        vertical-align: top;\n",
       "    }\n",
       "\n",
       "    .dataframe thead th {\n",
       "        text-align: right;\n",
       "    }\n",
       "</style>\n",
       "<table border=\"1\" class=\"dataframe\">\n",
       "  <thead>\n",
       "    <tr style=\"text-align: right;\">\n",
       "      <th></th>\n",
       "      <th>artist</th>\n",
       "      <th>song</th>\n",
       "      <th>link</th>\n",
       "      <th>text</th>\n",
       "    </tr>\n",
       "  </thead>\n",
       "  <tbody>\n",
       "    <tr>\n",
       "      <th>0</th>\n",
       "      <td>ABBA</td>\n",
       "      <td>Ahe's My Kind Of Girl</td>\n",
       "      <td>/a/abba/ahes+my+kind+of+girl_20598417.html</td>\n",
       "      <td>Look at her face, it's a wonderful face  \\nAnd...</td>\n",
       "    </tr>\n",
       "    <tr>\n",
       "      <th>1</th>\n",
       "      <td>ABBA</td>\n",
       "      <td>Andante, Andante</td>\n",
       "      <td>/a/abba/andante+andante_20002708.html</td>\n",
       "      <td>Take it easy with me, please  \\nTouch me gentl...</td>\n",
       "    </tr>\n",
       "    <tr>\n",
       "      <th>2</th>\n",
       "      <td>ABBA</td>\n",
       "      <td>As Good As New</td>\n",
       "      <td>/a/abba/as+good+as+new_20003033.html</td>\n",
       "      <td>I'll never know why I had to go  \\nWhy I had t...</td>\n",
       "    </tr>\n",
       "    <tr>\n",
       "      <th>3</th>\n",
       "      <td>ABBA</td>\n",
       "      <td>Bang</td>\n",
       "      <td>/a/abba/bang_20598415.html</td>\n",
       "      <td>Making somebody happy is a question of give an...</td>\n",
       "    </tr>\n",
       "    <tr>\n",
       "      <th>4</th>\n",
       "      <td>ABBA</td>\n",
       "      <td>Bang-A-Boomerang</td>\n",
       "      <td>/a/abba/bang+a+boomerang_20002668.html</td>\n",
       "      <td>Making somebody happy is a question of give an...</td>\n",
       "    </tr>\n",
       "  </tbody>\n",
       "</table>\n",
       "</div>"
      ],
      "text/plain": [
       "  artist                   song                                        link  \\\n",
       "0   ABBA  Ahe's My Kind Of Girl  /a/abba/ahes+my+kind+of+girl_20598417.html   \n",
       "1   ABBA       Andante, Andante       /a/abba/andante+andante_20002708.html   \n",
       "2   ABBA         As Good As New        /a/abba/as+good+as+new_20003033.html   \n",
       "3   ABBA                   Bang                  /a/abba/bang_20598415.html   \n",
       "4   ABBA       Bang-A-Boomerang      /a/abba/bang+a+boomerang_20002668.html   \n",
       "\n",
       "                                                text  \n",
       "0  Look at her face, it's a wonderful face  \\nAnd...  \n",
       "1  Take it easy with me, please  \\nTouch me gentl...  \n",
       "2  I'll never know why I had to go  \\nWhy I had t...  \n",
       "3  Making somebody happy is a question of give an...  \n",
       "4  Making somebody happy is a question of give an...  "
      ]
     },
     "execution_count": 4,
     "metadata": {},
     "output_type": "execute_result"
    }
   ],
   "source": [
    "df.head()"
   ]
  },
  {
   "cell_type": "code",
   "execution_count": 5,
   "id": "d9685c02",
   "metadata": {},
   "outputs": [],
   "source": [
    "def jaccard_similarity(song1, song2):\n",
    "    text1 = set(song1.split())\n",
    "    text2 = set(song2.split())\n",
    "    return jaccard_score(text1, text2)\n"
   ]
  },
  {
   "cell_type": "code",
   "execution_count": 8,
   "id": "c57f7d4a",
   "metadata": {},
   "outputs": [
    {
     "data": {
      "text/plain": [
       "57650"
      ]
     },
     "execution_count": 8,
     "metadata": {},
     "output_type": "execute_result"
    }
   ],
   "source": [
    "n_songs = len(df)\n",
    "n_songs"
   ]
  },
  {
   "cell_type": "code",
   "execution_count": null,
   "id": "ede21dd5",
   "metadata": {},
   "outputs": [],
   "source": []
  }
 ],
 "metadata": {
  "kernelspec": {
   "display_name": "Python 3 (ipykernel)",
   "language": "python",
   "name": "python3"
  },
  "language_info": {
   "codemirror_mode": {
    "name": "ipython",
    "version": 3
   },
   "file_extension": ".py",
   "mimetype": "text/x-python",
   "name": "python",
   "nbconvert_exporter": "python",
   "pygments_lexer": "ipython3",
   "version": "3.10.9"
  }
 },
 "nbformat": 4,
 "nbformat_minor": 5
}
